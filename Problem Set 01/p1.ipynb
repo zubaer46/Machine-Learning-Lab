{
  "nbformat": 4,
  "nbformat_minor": 0,
  "metadata": {
    "colab": {
      "provenance": []
    },
    "kernelspec": {
      "name": "python3",
      "display_name": "Python 3"
    },
    "language_info": {
      "name": "python"
    }
  },
  "cells": [
    {
      "cell_type": "code",
      "execution_count": 2,
      "metadata": {
        "colab": {
          "base_uri": "https://localhost:8080/"
        },
        "id": "ZvbOPVPKxvk7",
        "outputId": "9dbb7c43-d6a8-4d22-99c2-53195ba2c465"
      },
      "outputs": [
        {
          "output_type": "stream",
          "name": "stdout",
          "text": [
            "Drive already mounted at /content/gdrive; to attempt to forcibly remount, call drive.mount(\"/content/gdrive\", force_remount=True).\n",
            "Found 5224 files belonging to 2 classes.\n",
            "Using 4180 files for training.\n",
            "Found 16 files belonging to 2 classes.\n",
            "Using 3 files for validation.\n",
            "Found 624 files belonging to 2 classes.\n",
            "Epoch 1/5\n",
            "131/131 [==============================] - 552s 4s/step - loss: 0.2881 - accuracy: 0.8844 - val_loss: 0.0417 - val_accuracy: 1.0000\n",
            "Epoch 2/5\n",
            "131/131 [==============================] - 539s 4s/step - loss: 0.1010 - accuracy: 0.9600 - val_loss: 0.0059 - val_accuracy: 1.0000\n",
            "Epoch 3/5\n",
            "131/131 [==============================] - 534s 4s/step - loss: 0.0875 - accuracy: 0.9677 - val_loss: 0.0086 - val_accuracy: 1.0000\n",
            "Epoch 4/5\n",
            "131/131 [==============================] - 544s 4s/step - loss: 0.0567 - accuracy: 0.9789 - val_loss: 0.0068 - val_accuracy: 1.0000\n",
            "Epoch 5/5\n",
            "131/131 [==============================] - 543s 4s/step - loss: 0.0472 - accuracy: 0.9835 - val_loss: 0.0065 - val_accuracy: 1.0000\n",
            "20/20 [==============================] - 80s 2s/step - loss: 1.1989 - accuracy: 0.7484\n"
          ]
        },
        {
          "output_type": "execute_result",
          "data": {
            "text/plain": [
              "[1.1989437341690063, 0.7483974099159241]"
            ]
          },
          "metadata": {},
          "execution_count": 2
        }
      ],
      "source": [
        "import tensorflow as tf\n",
        "from tensorflow import keras\n",
        "from tensorflow.keras import layers\n",
        "\n",
        "from google.colab import drive\n",
        "drive.mount('/content/gdrive')\n",
        "\n",
        "\n",
        "train_path = '/content/gdrive/MyDrive/ML/Archive/train'\n",
        "val_path = '/content/gdrive/MyDrive/ML/Archive/val'\n",
        "test_path = '/content/gdrive/MyDrive/ML/Archive/test'\n",
        "\n",
        "train_ds = keras.preprocessing.image_dataset_from_directory(\n",
        "    train_path,\n",
        "    validation_split=0.2,\n",
        "    subset=\"training\",\n",
        "    seed=1337,\n",
        "    image_size=(224, 224),\n",
        "    batch_size=32,\n",
        ")\n",
        "val_ds = keras.preprocessing.image_dataset_from_directory(\n",
        "    val_path,\n",
        "    validation_split=0.2,\n",
        "    subset=\"validation\",\n",
        "    seed=1337,\n",
        "    image_size=(224, 224),\n",
        "    batch_size=32,\n",
        ")\n",
        "test_ds = keras.preprocessing.image_dataset_from_directory(\n",
        "    test_path,\n",
        "    seed=1337,\n",
        "    image_size=(224, 224),\n",
        "    batch_size=32,\n",
        ")\n",
        "model = keras.Sequential(\n",
        "    [\n",
        "        layers.experimental.preprocessing.Rescaling(1.0 / 255),\n",
        "        layers.Conv2D(32, (3, 3), activation=\"relu\"),\n",
        "        layers.MaxPooling2D(pool_size=(2, 2)),\n",
        "        layers.Conv2D(64, (3, 3), activation=\"relu\"),\n",
        "        layers.MaxPooling2D(pool_size=(2, 2)),\n",
        "        layers.Conv2D(128, (3, 3), activation=\"relu\"),\n",
        "        layers.MaxPooling2D(pool_size=(2, 2)),\n",
        "        layers.Flatten(),\n",
        "        layers.Dense(128, activation=\"relu\"),\n",
        "        layers.Dense(1, activation=\"sigmoid\"),\n",
        "    ]\n",
        ")\n",
        "\n",
        "model.compile(optimizer=\"adam\", loss=\"binary_crossentropy\", metrics=[\"accuracy\"])\n",
        "\n",
        "model.fit(train_ds, validation_data=val_ds, epochs=5)\n",
        "\n",
        "model.evaluate(test_ds)\n"
      ]
    }
  ]
}